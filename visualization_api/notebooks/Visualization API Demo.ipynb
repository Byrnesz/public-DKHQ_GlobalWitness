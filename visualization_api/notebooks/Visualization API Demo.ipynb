{
 "cells": [
  {
   "cell_type": "markdown",
   "metadata": {},
   "source": [
    "# Visualization API Example\n",
    "\n",
    "This notebook shows how how to use the `visualization` library for viewing images stored on disk."
   ]
  },
  {
   "cell_type": "code",
   "execution_count": 1,
   "metadata": {
    "collapsed": true
   },
   "outputs": [],
   "source": [
    "import sys\n",
    "if '../' not in sys.path:\n",
    "    sys.path.append(\"../\")\n",
    "\n",
    "import matplotlib.pyplot as plt\n",
    "    \n",
    "import storage\n",
    "import visualization\n",
    "\n",
    "# TODO: Change this path to the directory containing predictions.\n",
    "PREDICTIONS_DATASET_PATH = \"/tmp/ipis\"\n",
    "\n",
    "%matplotlib inline"
   ]
  },
  {
   "cell_type": "code",
   "execution_count": 2,
   "metadata": {},
   "outputs": [
    {
     "data": {
      "text/html": [
       "<div>\n",
       "<style>\n",
       "    .dataframe thead tr:only-child th {\n",
       "        text-align: right;\n",
       "    }\n",
       "\n",
       "    .dataframe thead th {\n",
       "        text-align: left;\n",
       "    }\n",
       "\n",
       "    .dataframe tbody tr th {\n",
       "        vertical-align: top;\n",
       "    }\n",
       "</style>\n",
       "<table border=\"1\" class=\"dataframe\">\n",
       "  <thead>\n",
       "    <tr style=\"text-align: right;\">\n",
       "      <th></th>\n",
       "      <th>location_id</th>\n",
       "      <th>metadata</th>\n",
       "      <th>source_id</th>\n",
       "    </tr>\n",
       "  </thead>\n",
       "  <tbody>\n",
       "    <tr>\n",
       "      <th>283</th>\n",
       "      <td>codmine00400</td>\n",
       "      <td>{u'dates': [u'20161015', u'20161116', u'201612...</td>\n",
       "      <td>landsat8</td>\n",
       "    </tr>\n",
       "    <tr>\n",
       "      <th>21</th>\n",
       "      <td>codmine00071</td>\n",
       "      <td>{u'dates': [u'20161015', u'20161116', u'201612...</td>\n",
       "      <td>landsat8</td>\n",
       "    </tr>\n",
       "    <tr>\n",
       "      <th>257</th>\n",
       "      <td>codmine00331</td>\n",
       "      <td>{u'dates': [u'20161015', u'20161116', u'201612...</td>\n",
       "      <td>landsat8</td>\n",
       "    </tr>\n",
       "    <tr>\n",
       "      <th>201</th>\n",
       "      <td>codmine00399</td>\n",
       "      <td>{u'dates': [u'20161015', u'20161116', u'201612...</td>\n",
       "      <td>landsat8</td>\n",
       "    </tr>\n",
       "    <tr>\n",
       "      <th>88</th>\n",
       "      <td>codmine01931</td>\n",
       "      <td>{u'dates': [u'20161015', u'20161116', u'201612...</td>\n",
       "      <td>landsat8</td>\n",
       "    </tr>\n",
       "  </tbody>\n",
       "</table>\n",
       "</div>"
      ],
      "text/plain": [
       "      location_id                                           metadata source_id\n",
       "283  codmine00400  {u'dates': [u'20161015', u'20161116', u'201612...  landsat8\n",
       "21   codmine00071  {u'dates': [u'20161015', u'20161116', u'201612...  landsat8\n",
       "257  codmine00331  {u'dates': [u'20161015', u'20161116', u'201612...  landsat8\n",
       "201  codmine00399  {u'dates': [u'20161015', u'20161116', u'201612...  landsat8\n",
       "88   codmine01931  {u'dates': [u'20161015', u'20161116', u'201612...  landsat8"
      ]
     },
     "execution_count": 2,
     "metadata": {},
     "output_type": "execute_result"
    }
   ],
   "source": [
    "# Open an on-disk image dataset.\n",
    "dataset = storage.DiskDataset(PREDICTIONS_DATASET_PATH)\n",
    "\n",
    "# pd.DataFrame listing all (location_id, image_source_id, metadata).\n",
    "dataset.metadata().sort_values([\"location_id\", \"source_id\"]).sample(5)"
   ]
  },
  {
   "cell_type": "markdown",
   "metadata": {},
   "source": [
    "## Visualizing a Single Image\n",
    "\n",
    "The following blocks visualize a single satellite image and mask combination. For example, one might use 'landsat8' for `IMAGERY_SOURCE_ID` and 'mask' for `MASK_SOURCE_ID`. \n",
    "\n",
    "Both strings should in `dataset.metadata().source_id` from the dataset. The `LOCATION_ID` denotes which location to draw the image from, and must be a in `dataset.metadata().location_id`."
   ]
  },
  {
   "cell_type": "code",
   "execution_count": null,
   "metadata": {
    "collapsed": true
   },
   "outputs": [],
   "source": [
    "# Define which location you want.\n",
    "\n",
    "# TODO: Name of location to visualize.\n",
    "LOCATION_ID = \"codmine00126\"\n",
    "\n",
    "# TODO: Name of source to use for visualizing geography.\n",
    "IMAGERY_SOURCE_ID = \"landsat8\"\n",
    "\n",
    "# TODO: Name of source to use for mining masks, predictions, etc.\n",
    "MASK_SOURCE_ID = \"mask\""
   ]
  },
  {
   "cell_type": "code",
   "execution_count": null,
   "metadata": {
    "collapsed": true
   },
   "outputs": [],
   "source": [
    "# Loads image from disk.\n",
    "\n",
    "image = dataset.load_image(LOCATION_ID, IMAGERY_SOURCE_ID)\n",
    "mask = dataset.load_image(LOCATION_ID, MASK_SOURCE_ID)\n",
    "meta = dataset.image_metadata(LOCATION_ID, IMAGERY_SOURCE_ID)[\"metadata\"]\n",
    "\n",
    "# TODO: If the image array has more than rank 3, select which slice to use \n",
    "# now. For example, Landsat 8 images have a date dimension.\n",
    "image = image[..., 2]\n",
    "mask = mask\n",
    "\n",
    "assert len(image.shape) == 3, \"image should have shape [longitude, latitude, color band].\"\n",
    "assert len(mask.shape) == 2, \"mask should have shape [longitude, latitude].\"\n",
    "\n",
    "# Derive bounding box around image. \n",
    "bounding_box = visualization.BoundingBox.from_metadata(meta)"
   ]
  },
  {
   "cell_type": "code",
   "execution_count": null,
   "metadata": {
    "collapsed": true
   },
   "outputs": [],
   "source": [
    "# Print out where the image is.\n",
    "\n",
    "longitude, latitude = bounding_box.center\n",
    "print(\"longitude = %f | latitude = %f\" % (longitude, latitude))\n",
    "visualization.show_google_maps_link(longitude, latitude)"
   ]
  },
  {
   "cell_type": "code",
   "execution_count": null,
   "metadata": {
    "collapsed": true
   },
   "outputs": [],
   "source": [
    "# Visualize image.\n",
    "\n",
    "fig, axs = plt.subplots(1, 2, figsize=(16, 16))\n",
    "\n",
    "image_rgb = (\n",
    "    visualization.landsat8_color_combination(image, \"Natural Color\") \n",
    "    if IMAGERY_SOURCE_ID \n",
    "    else image[..., 0:3])\n",
    "\n",
    "plt.sca(axs[0])\n",
    "visualization.show_image(\n",
    "    image_rgb,\n",
    "    visualization.BoundingBox.from_metadata(meta), \n",
    "    title=\"Landsat 8\")\n",
    "\n",
    "plt.sca(axs[1])\n",
    "visualization.show_image(\n",
    "    mask,\n",
    "    visualization.BoundingBox.from_metadata(meta), \n",
    "    title=\"Mines\")"
   ]
  },
  {
   "cell_type": "code",
   "execution_count": null,
   "metadata": {
    "collapsed": true
   },
   "outputs": [],
   "source": [
    "# Visualize color bands.\n",
    "    \n",
    "plt.figure(figsize=(16, 10))\n",
    "visualization.show_color_bands(image, ncols=4, titles=meta['bands'])"
   ]
  },
  {
   "cell_type": "code",
   "execution_count": null,
   "metadata": {
    "collapsed": true
   },
   "outputs": [],
   "source": [
    "# View recommended color combinations for Landsat 8 imagery.\n",
    "\n",
    "if IMAGERY_SOURCE_ID is \"landsat8\":\n",
    "    plt.figure(figsize=(16, 12))\n",
    "    visualization.show_landsat8_color_combinations(image, ncols=4)\n",
    "else:\n",
    "    print(\"This visualization is only available when IMAGERY_SOURCE_ID == 'landsat8'.\")"
   ]
  },
  {
   "cell_type": "code",
   "execution_count": null,
   "metadata": {
    "collapsed": true
   },
   "outputs": [],
   "source": [
    "# Build map. Overlay image on top.\n",
    "\n",
    "folium_map = visualization.create_folium_map(\n",
    "    bounding_box,\n",
    "    tiles='ArcGIS')\n",
    "visualization.overlay_image_on_map(\n",
    "    folium_map, \n",
    "    image_rgb,\n",
    "    bounding_box,\n",
    "    opacity=0.75)\n",
    "visualization.overlay_image_on_map(\n",
    "    folium_map, \n",
    "    mask, \n",
    "    bounding_box,\n",
    "    opacity=0.2)\n",
    "\n",
    "folium_map"
   ]
  },
  {
   "cell_type": "markdown",
   "metadata": {},
   "source": [
    "## Visualizing Many Images\n",
    "\n",
    "Use the following to overlay multiple images at once. All images from each source will be overlaid over a base map, in order."
   ]
  },
  {
   "cell_type": "code",
   "execution_count": 7,
   "metadata": {
    "collapsed": true
   },
   "outputs": [],
   "source": [
    "# Define which images to overlay.\n",
    "\n",
    "# TODO: Choose which Locations and sources to load images for.\n",
    "LOCATION_IDS = dataset.metadata().location_id.unique()[0:100]\n",
    "SOURCE_IDS = ['landsat8', 'mask']\n",
    "\n",
    "# TODO: Define an image preprocessing function. If the raw image loaded\n",
    "# from 'dataset' isn't already grayscale, RGB, or RGBA, make it so here.\n",
    "def image_preprocessing_fn(image, metadata, location_id, source_id):\n",
    "    if source_id == 'landsat8':\n",
    "        return visualization.landsat8_color_combination(image[..., 2], \"Natural Color\")\n",
    "    if source_id == 'mask':\n",
    "        return image\n",
    "    else:\n",
    "        raise ValueError(\"Does source_id = %s need preprocessing?\" % source_id)"
   ]
  },
  {
   "cell_type": "code",
   "execution_count": 11,
   "metadata": {},
   "outputs": [
    {
     "name": "stdout",
     "output_type": "stream",
     "text": [
      "\n",
      "**WARNINGS!!** You've asked for 200 images. If you are using Chrome, you cannot\n",
      "display > 80 images. Firefox does not have this issue. Ensure jupyter notebook\n",
      "was launched with --NotebookApp.iopub_data_rate_limit=10000000000 to ensure the\n",
      "following will display.\n",
      "        \n"
     ]
    }
   ],
   "source": [
    "# Overlay images on map.\n",
    "\n",
    "# Ensure that folium won't die on us.\n",
    "num_images = len(LOCATION_IDS) * len(SOURCE_IDS)\n",
    "if num_images > 80:\n",
    "    print(\"\"\"\n",
    "**WARNINGS!!** You've asked for %d images. If you are using Chrome, you cannot\n",
    "display > 80 images. Firefox does not have this issue. Ensure jupyter notebook\n",
    "was launched with --NotebookApp.iopub_data_rate_limit=10000000000 to ensure the\n",
    "following will display.\n",
    "\n",
    "See https://github.com/python-visualization/folium/issues/768.\"\"\"\n",
    "        % (num_images,))\n",
    "    \n",
    "    \n",
    "# Create map to add images to.\n",
    "folium_map = visualization.create_folium_map(tiles='ArcGIS')\n",
    "\n",
    "# Overlay images on map.\n",
    "for source_id in SOURCE_IDS:\n",
    "    visualization.overlay_images_on_map(\n",
    "        dataset, \n",
    "        folium_map, \n",
    "        LOCATION_IDS, \n",
    "        source_id, \n",
    "        image_preprocessing_fn=image_preprocessing_fn, \n",
    "        opacity=0.5)\n",
    "\n",
    "folium_map"
   ]
  }
 ],
 "metadata": {
  "kernelspec": {
   "display_name": "Python 2",
   "language": "python",
   "name": "python2"
  },
  "language_info": {
   "codemirror_mode": {
    "name": "ipython",
    "version": 2
   },
   "file_extension": ".py",
   "mimetype": "text/x-python",
   "name": "python",
   "nbconvert_exporter": "python",
   "pygments_lexer": "ipython2",
   "version": "2.7.14"
  }
 },
 "nbformat": 4,
 "nbformat_minor": 2
}
